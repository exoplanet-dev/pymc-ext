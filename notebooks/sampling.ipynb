{
 "cells": [
  {
   "cell_type": "code",
   "execution_count": 1,
   "id": "671d9f4c",
   "metadata": {
    "execution": {
     "iopub.execute_input": "2022-10-12T15:41:25.578380Z",
     "iopub.status.busy": "2022-10-12T15:41:25.578123Z",
     "iopub.status.idle": "2022-10-12T15:41:26.285497Z",
     "shell.execute_reply": "2022-10-12T15:41:26.284746Z"
    }
   },
   "outputs": [],
   "source": [
    "%matplotlib inline"
   ]
  },
  {
   "cell_type": "code",
   "execution_count": 2,
   "id": "ff72fc1d",
   "metadata": {
    "execution": {
     "iopub.execute_input": "2022-10-12T15:41:26.290132Z",
     "iopub.status.busy": "2022-10-12T15:41:26.289412Z",
     "iopub.status.idle": "2022-10-12T15:41:26.302789Z",
     "shell.execute_reply": "2022-10-12T15:41:26.302242Z"
    }
   },
   "outputs": [
    {
     "name": "stderr",
     "output_type": "stream",
     "text": [
      "/home/runner/work/pymc3-ext/pymc3-ext/notebooks/notebook_setup.py:3: DeprecationWarning: `magic(...)` is deprecated since IPython 0.13 (warning added in 8.1), use run_line_magic(magic_name, parameter_s).\n",
      "  get_ipython().magic('config InlineBackend.figure_format = \"retina\"')\n"
     ]
    }
   ],
   "source": [
    "%run notebook_setup"
   ]
  },
  {
   "cell_type": "markdown",
   "id": "bd25d5f8",
   "metadata": {},
   "source": [
    "# Sampling\n",
    "\n",
    "`pymc3-ext` comes with some functions to make sampling more flexible in some cases and improve the default parameter choices for the types of problems encountered in astrophysics.\n",
    "These features are accessed through the `pymc3_ext.sample` function that behaves mostly like the `pymc3.sample` function with a couple of different arguments.\n",
    "The two main differences for all users is that the `pymc3_ext.sample` function defaults to a target acceptance fraction of `0.9` (which will be better for many models in astrophysics) and to adapting a full dense mass matrix (instead of diagonal).\n",
    "Therefore, if there are covariances between parameters, this method will generally perform better than the PyMC3 defaults.\n",
    "\n",
    "## Correlated parameters\n",
    "\n",
    "A thorough discussion of this [can be found elsewhere online](https://dfm.io/posts/pymc3-mass-matrix/), but here is a simple demo where we sample a covariant Gaussian using `pymc3_ext.sample`.\n",
    "\n",
    "First, we generate a random positive definite covariance matrix for the Gaussian:"
   ]
  },
  {
   "cell_type": "code",
   "execution_count": 3,
   "id": "95ca4e90",
   "metadata": {
    "execution": {
     "iopub.execute_input": "2022-10-12T15:41:26.305663Z",
     "iopub.status.busy": "2022-10-12T15:41:26.305445Z",
     "iopub.status.idle": "2022-10-12T15:41:26.310307Z",
     "shell.execute_reply": "2022-10-12T15:41:26.309645Z"
    }
   },
   "outputs": [],
   "source": [
    "import numpy as np\n",
    "\n",
    "ndim = 5\n",
    "np.random.seed(42)\n",
    "L = np.random.randn(ndim, ndim)\n",
    "L[np.diag_indices_from(L)] = 0.1 * np.exp(L[np.diag_indices_from(L)])\n",
    "L[np.triu_indices_from(L, 1)] = 0.0\n",
    "cov = np.dot(L, L.T)"
   ]
  },
  {
   "cell_type": "markdown",
   "id": "de0173f1",
   "metadata": {},
   "source": [
    "And then we can set up this model using PyMC3:"
   ]
  },
  {
   "cell_type": "code",
   "execution_count": 4,
   "id": "d1d5789c",
   "metadata": {
    "execution": {
     "iopub.execute_input": "2022-10-12T15:41:26.313240Z",
     "iopub.status.busy": "2022-10-12T15:41:26.313024Z",
     "iopub.status.idle": "2022-10-12T15:41:40.946040Z",
     "shell.execute_reply": "2022-10-12T15:41:40.945127Z"
    }
   },
   "outputs": [],
   "source": [
    "import pymc3 as pm\n",
    "\n",
    "with pm.Model() as model:\n",
    "    pm.MvNormal(\"x\", mu=np.zeros(ndim), chol=L, shape=ndim)"
   ]
  },
  {
   "cell_type": "markdown",
   "id": "e7dd2963",
   "metadata": {},
   "source": [
    "If we sample this using PyMC3 default sampling method, things don't go so well (we're only doing a small number of steps because we don't want it to take forever, but things don't get better if you run for longer!):"
   ]
  },
  {
   "cell_type": "code",
   "execution_count": 5,
   "id": "19b4bcfd",
   "metadata": {
    "execution": {
     "iopub.execute_input": "2022-10-12T15:41:40.950234Z",
     "iopub.status.busy": "2022-10-12T15:41:40.949395Z",
     "iopub.status.idle": "2022-10-12T15:43:28.742223Z",
     "shell.execute_reply": "2022-10-12T15:43:28.741479Z"
    }
   },
   "outputs": [
    {
     "name": "stderr",
     "output_type": "stream",
     "text": [
      "Auto-assigning NUTS sampler...\n"
     ]
    },
    {
     "name": "stderr",
     "output_type": "stream",
     "text": [
      "Initializing NUTS using jitter+adapt_diag...\n"
     ]
    },
    {
     "name": "stderr",
     "output_type": "stream",
     "text": [
      "Multiprocess sampling (2 chains in 2 jobs)\n"
     ]
    },
    {
     "name": "stderr",
     "output_type": "stream",
     "text": [
      "NUTS: [x]\n"
     ]
    },
    {
     "data": {
      "text/html": [
       "\n",
       "<style>\n",
       "    /* Turns off some styling */\n",
       "    progress {\n",
       "        /* gets rid of default border in Firefox and Opera. */\n",
       "        border: none;\n",
       "        /* Needs to be in here for Safari polyfill so background images work as expected. */\n",
       "        background-size: auto;\n",
       "    }\n",
       "    progress:not([value]), progress:not([value])::-webkit-progress-bar {\n",
       "        background: repeating-linear-gradient(45deg, #7e7e7e, #7e7e7e 10px, #5c5c5c 10px, #5c5c5c 20px);\n",
       "    }\n",
       "    .progress-bar-interrupted, .progress-bar-interrupted::-webkit-progress-bar {\n",
       "        background: #F44336;\n",
       "    }\n",
       "</style>\n"
      ],
      "text/plain": [
       "<IPython.core.display.HTML object>"
      ]
     },
     "metadata": {},
     "output_type": "display_data"
    },
    {
     "data": {
      "text/html": [
       "\n",
       "    <div>\n",
       "      <progress value='2000' class='' max='2000' style='width:300px; height:20px; vertical-align: middle;'></progress>\n",
       "      100.00% [2000/2000 01:22&lt;00:00 Sampling 2 chains, 104 divergences]\n",
       "    </div>\n",
       "    "
      ],
      "text/plain": [
       "<IPython.core.display.HTML object>"
      ]
     },
     "metadata": {},
     "output_type": "display_data"
    },
    {
     "name": "stderr",
     "output_type": "stream",
     "text": [
      "Sampling 2 chains for 500 tune and 500 draw iterations (1_000 + 1_000 draws total) took 83 seconds.\n"
     ]
    },
    {
     "name": "stderr",
     "output_type": "stream",
     "text": [
      "The chain reached the maximum tree depth. Increase max_treedepth, increase target_accept or reparameterize.\n"
     ]
    },
    {
     "name": "stderr",
     "output_type": "stream",
     "text": [
      "There were 104 divergences after tuning. Increase `target_accept` or reparameterize.\n"
     ]
    },
    {
     "name": "stderr",
     "output_type": "stream",
     "text": [
      "The acceptance probability does not match the target. It is 0.5659769070760404, but should be close to 0.8. Try to increase the number of tuning steps.\n"
     ]
    },
    {
     "name": "stderr",
     "output_type": "stream",
     "text": [
      "The rhat statistic is larger than 1.4 for some parameters. The sampler did not converge.\n"
     ]
    },
    {
     "name": "stderr",
     "output_type": "stream",
     "text": [
      "The estimated number of effective samples is smaller than 200 for some parameters.\n"
     ]
    }
   ],
   "source": [
    "with model:\n",
    "    trace = pm.sample(tune=500, draws=500, chains=2, cores=2)"
   ]
  },
  {
   "cell_type": "markdown",
   "id": "37a82b8a",
   "metadata": {},
   "source": [
    "But, we can use `pymc3_ext.sample` as a drop in replacement to get much better performance:"
   ]
  },
  {
   "cell_type": "code",
   "execution_count": 6,
   "id": "cfc866cc",
   "metadata": {
    "execution": {
     "iopub.execute_input": "2022-10-12T15:43:28.746112Z",
     "iopub.status.busy": "2022-10-12T15:43:28.745716Z",
     "iopub.status.idle": "2022-10-12T15:43:34.191114Z",
     "shell.execute_reply": "2022-10-12T15:43:34.190364Z"
    }
   },
   "outputs": [
    {
     "name": "stderr",
     "output_type": "stream",
     "text": [
      "Multiprocess sampling (2 chains in 2 jobs)\n"
     ]
    },
    {
     "name": "stderr",
     "output_type": "stream",
     "text": [
      "NUTS: [x]\n"
     ]
    },
    {
     "data": {
      "text/html": [
       "\n",
       "<style>\n",
       "    /* Turns off some styling */\n",
       "    progress {\n",
       "        /* gets rid of default border in Firefox and Opera. */\n",
       "        border: none;\n",
       "        /* Needs to be in here for Safari polyfill so background images work as expected. */\n",
       "        background-size: auto;\n",
       "    }\n",
       "    progress:not([value]), progress:not([value])::-webkit-progress-bar {\n",
       "        background: repeating-linear-gradient(45deg, #7e7e7e, #7e7e7e 10px, #5c5c5c 10px, #5c5c5c 20px);\n",
       "    }\n",
       "    .progress-bar-interrupted, .progress-bar-interrupted::-webkit-progress-bar {\n",
       "        background: #F44336;\n",
       "    }\n",
       "</style>\n"
      ],
      "text/plain": [
       "<IPython.core.display.HTML object>"
      ]
     },
     "metadata": {},
     "output_type": "display_data"
    },
    {
     "data": {
      "text/html": [
       "\n",
       "    <div>\n",
       "      <progress value='4000' class='' max='4000' style='width:300px; height:20px; vertical-align: middle;'></progress>\n",
       "      100.00% [4000/4000 00:05&lt;00:00 Sampling 2 chains, 0 divergences]\n",
       "    </div>\n",
       "    "
      ],
      "text/plain": [
       "<IPython.core.display.HTML object>"
      ]
     },
     "metadata": {},
     "output_type": "display_data"
    },
    {
     "name": "stderr",
     "output_type": "stream",
     "text": [
      "Sampling 2 chains for 1_000 tune and 1_000 draw iterations (2_000 + 2_000 draws total) took 5 seconds.\n"
     ]
    }
   ],
   "source": [
    "import pymc3_ext as pmx\n",
    "\n",
    "with model:\n",
    "    tracex = pmx.sample(tune=1000, draws=1000, chains=2, cores=2)"
   ]
  },
  {
   "cell_type": "markdown",
   "id": "28c833eb",
   "metadata": {},
   "source": [
    "As you can see, this is substantially faster (even though we generated twice as many samples).\n",
    "\n",
    "We can compare the sampling summaries to confirm that the default method did not produce reliable results in this case, while the `pymc3_ext` version did:"
   ]
  },
  {
   "cell_type": "code",
   "execution_count": 7,
   "id": "817c226a",
   "metadata": {
    "execution": {
     "iopub.execute_input": "2022-10-12T15:43:34.195285Z",
     "iopub.status.busy": "2022-10-12T15:43:34.194882Z",
     "iopub.status.idle": "2022-10-12T15:43:34.305016Z",
     "shell.execute_reply": "2022-10-12T15:43:34.304329Z"
    }
   },
   "outputs": [
    {
     "name": "stderr",
     "output_type": "stream",
     "text": [
      "Got error No model on context stack. trying to find log_likelihood in translation.\n"
     ]
    },
    {
     "data": {
      "text/html": [
       "<div>\n",
       "<style scoped>\n",
       "    .dataframe tbody tr th:only-of-type {\n",
       "        vertical-align: middle;\n",
       "    }\n",
       "\n",
       "    .dataframe tbody tr th {\n",
       "        vertical-align: top;\n",
       "    }\n",
       "\n",
       "    .dataframe thead th {\n",
       "        text-align: right;\n",
       "    }\n",
       "</style>\n",
       "<table border=\"1\" class=\"dataframe\">\n",
       "  <thead>\n",
       "    <tr style=\"text-align: right;\">\n",
       "      <th></th>\n",
       "      <th>mean</th>\n",
       "      <th>sd</th>\n",
       "      <th>hdi_3%</th>\n",
       "      <th>hdi_97%</th>\n",
       "      <th>mcse_mean</th>\n",
       "      <th>mcse_sd</th>\n",
       "      <th>ess_bulk</th>\n",
       "      <th>ess_tail</th>\n",
       "      <th>r_hat</th>\n",
       "    </tr>\n",
       "  </thead>\n",
       "  <tbody>\n",
       "    <tr>\n",
       "      <th>x[0]</th>\n",
       "      <td>0.086</td>\n",
       "      <td>0.126</td>\n",
       "      <td>-0.228</td>\n",
       "      <td>0.241</td>\n",
       "      <td>0.044</td>\n",
       "      <td>0.032</td>\n",
       "      <td>8.0</td>\n",
       "      <td>114.0</td>\n",
       "      <td>1.95</td>\n",
       "    </tr>\n",
       "    <tr>\n",
       "      <th>x[1]</th>\n",
       "      <td>-0.087</td>\n",
       "      <td>0.427</td>\n",
       "      <td>-0.819</td>\n",
       "      <td>0.945</td>\n",
       "      <td>0.060</td>\n",
       "      <td>0.090</td>\n",
       "      <td>38.0</td>\n",
       "      <td>78.0</td>\n",
       "      <td>1.94</td>\n",
       "    </tr>\n",
       "    <tr>\n",
       "      <th>x[2]</th>\n",
       "      <td>-0.329</td>\n",
       "      <td>0.485</td>\n",
       "      <td>-1.053</td>\n",
       "      <td>0.810</td>\n",
       "      <td>0.155</td>\n",
       "      <td>0.113</td>\n",
       "      <td>9.0</td>\n",
       "      <td>126.0</td>\n",
       "      <td>1.96</td>\n",
       "    </tr>\n",
       "    <tr>\n",
       "      <th>x[3]</th>\n",
       "      <td>-0.503</td>\n",
       "      <td>0.875</td>\n",
       "      <td>-1.731</td>\n",
       "      <td>1.720</td>\n",
       "      <td>0.231</td>\n",
       "      <td>0.167</td>\n",
       "      <td>20.0</td>\n",
       "      <td>117.0</td>\n",
       "      <td>1.79</td>\n",
       "    </tr>\n",
       "    <tr>\n",
       "      <th>x[4]</th>\n",
       "      <td>0.923</td>\n",
       "      <td>1.491</td>\n",
       "      <td>-2.136</td>\n",
       "      <td>2.904</td>\n",
       "      <td>0.653</td>\n",
       "      <td>0.490</td>\n",
       "      <td>7.0</td>\n",
       "      <td>61.0</td>\n",
       "      <td>1.89</td>\n",
       "    </tr>\n",
       "  </tbody>\n",
       "</table>\n",
       "</div>"
      ],
      "text/plain": [
       "       mean     sd  hdi_3%  hdi_97%  mcse_mean  mcse_sd  ess_bulk  ess_tail  \\\n",
       "x[0]  0.086  0.126  -0.228    0.241      0.044    0.032       8.0     114.0   \n",
       "x[1] -0.087  0.427  -0.819    0.945      0.060    0.090      38.0      78.0   \n",
       "x[2] -0.329  0.485  -1.053    0.810      0.155    0.113       9.0     126.0   \n",
       "x[3] -0.503  0.875  -1.731    1.720      0.231    0.167      20.0     117.0   \n",
       "x[4]  0.923  1.491  -2.136    2.904      0.653    0.490       7.0      61.0   \n",
       "\n",
       "      r_hat  \n",
       "x[0]   1.95  \n",
       "x[1]   1.94  \n",
       "x[2]   1.96  \n",
       "x[3]   1.79  \n",
       "x[4]   1.89  "
      ]
     },
     "execution_count": 7,
     "metadata": {},
     "output_type": "execute_result"
    }
   ],
   "source": [
    "import arviz as az\n",
    "\n",
    "az.summary(trace).head()"
   ]
  },
  {
   "cell_type": "code",
   "execution_count": 8,
   "id": "886d5c1c",
   "metadata": {
    "execution": {
     "iopub.execute_input": "2022-10-12T15:43:34.308254Z",
     "iopub.status.busy": "2022-10-12T15:43:34.307992Z",
     "iopub.status.idle": "2022-10-12T15:43:34.379476Z",
     "shell.execute_reply": "2022-10-12T15:43:34.378801Z"
    }
   },
   "outputs": [
    {
     "name": "stderr",
     "output_type": "stream",
     "text": [
      "Got error No model on context stack. trying to find log_likelihood in translation.\n"
     ]
    },
    {
     "data": {
      "text/html": [
       "<div>\n",
       "<style scoped>\n",
       "    .dataframe tbody tr th:only-of-type {\n",
       "        vertical-align: middle;\n",
       "    }\n",
       "\n",
       "    .dataframe tbody tr th {\n",
       "        vertical-align: top;\n",
       "    }\n",
       "\n",
       "    .dataframe thead th {\n",
       "        text-align: right;\n",
       "    }\n",
       "</style>\n",
       "<table border=\"1\" class=\"dataframe\">\n",
       "  <thead>\n",
       "    <tr style=\"text-align: right;\">\n",
       "      <th></th>\n",
       "      <th>mean</th>\n",
       "      <th>sd</th>\n",
       "      <th>hdi_3%</th>\n",
       "      <th>hdi_97%</th>\n",
       "      <th>mcse_mean</th>\n",
       "      <th>mcse_sd</th>\n",
       "      <th>ess_bulk</th>\n",
       "      <th>ess_tail</th>\n",
       "      <th>r_hat</th>\n",
       "    </tr>\n",
       "  </thead>\n",
       "  <tbody>\n",
       "    <tr>\n",
       "      <th>x[0]</th>\n",
       "      <td>-0.003</td>\n",
       "      <td>0.167</td>\n",
       "      <td>-0.314</td>\n",
       "      <td>0.301</td>\n",
       "      <td>0.004</td>\n",
       "      <td>0.004</td>\n",
       "      <td>2125.0</td>\n",
       "      <td>1367.0</td>\n",
       "      <td>1.0</td>\n",
       "    </tr>\n",
       "    <tr>\n",
       "      <th>x[1]</th>\n",
       "      <td>-0.002</td>\n",
       "      <td>0.553</td>\n",
       "      <td>-1.114</td>\n",
       "      <td>0.986</td>\n",
       "      <td>0.012</td>\n",
       "      <td>0.013</td>\n",
       "      <td>2165.0</td>\n",
       "      <td>1384.0</td>\n",
       "      <td>1.0</td>\n",
       "    </tr>\n",
       "    <tr>\n",
       "      <th>x[2]</th>\n",
       "      <td>0.017</td>\n",
       "      <td>0.665</td>\n",
       "      <td>-1.291</td>\n",
       "      <td>1.176</td>\n",
       "      <td>0.014</td>\n",
       "      <td>0.014</td>\n",
       "      <td>2144.0</td>\n",
       "      <td>1600.0</td>\n",
       "      <td>1.0</td>\n",
       "    </tr>\n",
       "    <tr>\n",
       "      <th>x[3]</th>\n",
       "      <td>0.031</td>\n",
       "      <td>1.193</td>\n",
       "      <td>-2.124</td>\n",
       "      <td>2.325</td>\n",
       "      <td>0.026</td>\n",
       "      <td>0.025</td>\n",
       "      <td>2104.0</td>\n",
       "      <td>1611.0</td>\n",
       "      <td>1.0</td>\n",
       "    </tr>\n",
       "    <tr>\n",
       "      <th>x[4]</th>\n",
       "      <td>0.001</td>\n",
       "      <td>2.105</td>\n",
       "      <td>-3.811</td>\n",
       "      <td>3.935</td>\n",
       "      <td>0.044</td>\n",
       "      <td>0.048</td>\n",
       "      <td>2256.0</td>\n",
       "      <td>1402.0</td>\n",
       "      <td>1.0</td>\n",
       "    </tr>\n",
       "  </tbody>\n",
       "</table>\n",
       "</div>"
      ],
      "text/plain": [
       "       mean     sd  hdi_3%  hdi_97%  mcse_mean  mcse_sd  ess_bulk  ess_tail  \\\n",
       "x[0] -0.003  0.167  -0.314    0.301      0.004    0.004    2125.0    1367.0   \n",
       "x[1] -0.002  0.553  -1.114    0.986      0.012    0.013    2165.0    1384.0   \n",
       "x[2]  0.017  0.665  -1.291    1.176      0.014    0.014    2144.0    1600.0   \n",
       "x[3]  0.031  1.193  -2.124    2.325      0.026    0.025    2104.0    1611.0   \n",
       "x[4]  0.001  2.105  -3.811    3.935      0.044    0.048    2256.0    1402.0   \n",
       "\n",
       "      r_hat  \n",
       "x[0]    1.0  \n",
       "x[1]    1.0  \n",
       "x[2]    1.0  \n",
       "x[3]    1.0  \n",
       "x[4]    1.0  "
      ]
     },
     "execution_count": 8,
     "metadata": {},
     "output_type": "execute_result"
    }
   ],
   "source": [
    "az.summary(tracex).head()"
   ]
  },
  {
   "cell_type": "markdown",
   "id": "e1116a0a",
   "metadata": {},
   "source": [
    "In this particular case, you could get similar performance using the `init=\"adapt_full\"` argument to the `sample` function in PyMC3, but the implementation in `pymc3-ext` is somewhat more flexible.\n",
    "Specifically, `pymc3_ext` implements a tuning procedure that it more similar to [the one implemented by the Stan project](https://mc-stan.org/docs/2_24/reference-manual/hmc-algorithm-parameters.html).\n",
    "The relevant parameters are:\n",
    "\n",
    "- `warmup_window`: The length of the initial \"fast\" window. This is called \"initial buffer\" in the Stan docs.\n",
    "- `adapt_window`: The length of the initial \"slow\" window. This is called \"window\" in the Stan docs.\n",
    "- `cooldown_window`: The length of the final \"fast\" window. This is called \"term buffer\" in the Stan docs.\n",
    "\n",
    "Unlike the Stan implementation, here we have support for updating the mass matrix estimate every `recompute_interval` steps based on the previous window and all the steps in the current window so far.\n",
    "This can improve warm up performance substantially so the default value is `1`, but this might be intractable for high dimensional models.\n",
    "To only recompute the estimate at the end of each window, set `recompute_interval=0`.\n",
    "\n",
    "If you run into numerical issues, you can try increasing `adapt_window` or use the `regularization_steps`and `regularization_variance` to regularize the mass matrix estimator.\n",
    "The `regularization_steps` parameter sets the effective number of steps that are used for regularization and `regularization_variance` is the effective variance for those steps."
   ]
  },
  {
   "cell_type": "markdown",
   "id": "8101f7b5",
   "metadata": {},
   "source": [
    "## Parameter groups\n",
    "\n",
    "If you are fitting a model with a large number of parameters, it might not be computationally or numerically tractable to estimate the full dense mass matrix.\n",
    "But, sometimes you might know something about the covariance structure of the problem that you can exploit.\n",
    "Perhaps some parameters are correlated with each other, but not with others.\n",
    "In this case, you can use the `parameter_groups` argument to exploit this structure.\n",
    "\n",
    "Here is an example where `x`, `y`, and `z` are all independent with different covariance structure.\n",
    "We can take advantage of this structure using `pmx.ParameterGroup` specifications in the `parameter_groups` argument.\n",
    "Note that by default each group will internally estimate a dense mass matrix, but here we specifically only estimate a diagonal mass matrix for `z`."
   ]
  },
  {
   "cell_type": "code",
   "execution_count": 9,
   "id": "47644c5b",
   "metadata": {
    "execution": {
     "iopub.execute_input": "2022-10-12T15:43:34.382832Z",
     "iopub.status.busy": "2022-10-12T15:43:34.382603Z",
     "iopub.status.idle": "2022-10-12T15:44:04.328277Z",
     "shell.execute_reply": "2022-10-12T15:44:04.327543Z"
    }
   },
   "outputs": [
    {
     "name": "stderr",
     "output_type": "stream",
     "text": [
      "Multiprocess sampling (2 chains in 2 jobs)\n"
     ]
    },
    {
     "name": "stderr",
     "output_type": "stream",
     "text": [
      "NUTS: [z, y, x]\n"
     ]
    },
    {
     "data": {
      "text/html": [
       "\n",
       "<style>\n",
       "    /* Turns off some styling */\n",
       "    progress {\n",
       "        /* gets rid of default border in Firefox and Opera. */\n",
       "        border: none;\n",
       "        /* Needs to be in here for Safari polyfill so background images work as expected. */\n",
       "        background-size: auto;\n",
       "    }\n",
       "    progress:not([value]), progress:not([value])::-webkit-progress-bar {\n",
       "        background: repeating-linear-gradient(45deg, #7e7e7e, #7e7e7e 10px, #5c5c5c 10px, #5c5c5c 20px);\n",
       "    }\n",
       "    .progress-bar-interrupted, .progress-bar-interrupted::-webkit-progress-bar {\n",
       "        background: #F44336;\n",
       "    }\n",
       "</style>\n"
      ],
      "text/plain": [
       "<IPython.core.display.HTML object>"
      ]
     },
     "metadata": {},
     "output_type": "display_data"
    },
    {
     "data": {
      "text/html": [
       "\n",
       "    <div>\n",
       "      <progress value='4000' class='' max='4000' style='width:300px; height:20px; vertical-align: middle;'></progress>\n",
       "      100.00% [4000/4000 00:08&lt;00:00 Sampling 2 chains, 0 divergences]\n",
       "    </div>\n",
       "    "
      ],
      "text/plain": [
       "<IPython.core.display.HTML object>"
      ]
     },
     "metadata": {},
     "output_type": "display_data"
    },
    {
     "name": "stderr",
     "output_type": "stream",
     "text": [
      "Sampling 2 chains for 1_000 tune and 1_000 draw iterations (2_000 + 2_000 draws total) took 8 seconds.\n"
     ]
    }
   ],
   "source": [
    "with pm.Model():\n",
    "    x = pm.MvNormal(\"x\", mu=np.zeros(ndim), chol=L, shape=ndim)\n",
    "    y = pm.MvNormal(\"y\", mu=np.zeros(ndim), chol=L, shape=ndim)\n",
    "    z = pm.Normal(\"z\", shape=ndim)  # Uncorrelated\n",
    "\n",
    "    tracex2 = pmx.sample(\n",
    "        tune=1000,\n",
    "        draws=1000,\n",
    "        chains=2,\n",
    "        cores=2,\n",
    "        parameter_groups=[\n",
    "            [x],\n",
    "            [y],\n",
    "            pmx.ParameterGroup([z], \"diag\"),\n",
    "        ],\n",
    "    )"
   ]
  },
  {
   "cell_type": "code",
   "execution_count": null,
   "id": "306b976c",
   "metadata": {},
   "outputs": [],
   "source": []
  }
 ],
 "metadata": {
  "kernelspec": {
   "display_name": "Python 3",
   "language": "python",
   "name": "python3"
  },
  "language_info": {
   "codemirror_mode": {
    "name": "ipython",
    "version": 3
   },
   "file_extension": ".py",
   "mimetype": "text/x-python",
   "name": "python",
   "nbconvert_exporter": "python",
   "pygments_lexer": "ipython3",
   "version": "3.8.14"
  }
 },
 "nbformat": 4,
 "nbformat_minor": 5
}
